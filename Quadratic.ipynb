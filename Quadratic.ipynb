{
 "cells": [
  {
   "cell_type": "code",
   "execution_count": 1,
   "id": "5f116829",
   "metadata": {},
   "outputs": [],
   "source": [
    "import tensorflow as tf\n",
    "from tensorflow import keras\n",
    "import pandas as pd\n",
    "import numpy as np"
   ]
  },
  {
   "cell_type": "code",
   "execution_count": 3,
   "id": "911036c2",
   "metadata": {},
   "outputs": [],
   "source": [
    "train_df = pd.read_csv('./train_quad.csv')\n",
    "train_df.head()\n",
    "np.random.shuffle(train_df.values)"
   ]
  },
  {
   "cell_type": "code",
   "execution_count": 16,
   "id": "a55d6318",
   "metadata": {},
   "outputs": [
    {
     "name": "stdout",
     "output_type": "stream",
     "text": [
      "Epoch 1/15\n",
      "250/250 [==============================] - 1s 1ms/step - loss: 0.5610 - accuracy: 0.7300\n",
      "Epoch 2/15\n",
      "250/250 [==============================] - 0s 1ms/step - loss: 0.3729 - accuracy: 0.8705\n",
      "Epoch 3/15\n",
      "250/250 [==============================] - 0s 1ms/step - loss: 0.2456 - accuracy: 0.9302\n",
      "Epoch 4/15\n",
      "250/250 [==============================] - 0s 1ms/step - loss: 0.1806 - accuracy: 0.9490\n",
      "Epoch 5/15\n",
      "250/250 [==============================] - 0s 1ms/step - loss: 0.1201 - accuracy: 0.9803\n",
      "Epoch 6/15\n",
      "250/250 [==============================] - 0s 1ms/step - loss: 0.0913 - accuracy: 0.9803\n",
      "Epoch 7/15\n",
      "250/250 [==============================] - 0s 1ms/step - loss: 0.0690 - accuracy: 0.9887\n",
      "Epoch 8/15\n",
      "250/250 [==============================] - 0s 1ms/step - loss: 0.0487 - accuracy: 0.9970\n",
      "Epoch 9/15\n",
      "250/250 [==============================] - 0s 1ms/step - loss: 0.0415 - accuracy: 0.9962\n",
      "Epoch 10/15\n",
      "250/250 [==============================] - 0s 1ms/step - loss: 0.0375 - accuracy: 0.9958\n",
      "Epoch 11/15\n",
      "250/250 [==============================] - 0s 1ms/step - loss: 0.0286 - accuracy: 0.9985\n",
      "Epoch 12/15\n",
      "250/250 [==============================] - 0s 1ms/step - loss: 0.0339 - accuracy: 0.9927\n",
      "Epoch 13/15\n",
      "250/250 [==============================] - 0s 1ms/step - loss: 0.0180 - accuracy: 0.9995\n",
      "Epoch 14/15\n",
      "250/250 [==============================] - 0s 1ms/step - loss: 0.0171 - accuracy: 0.9990\n",
      "Epoch 15/15\n",
      "250/250 [==============================] - 0s 1ms/step - loss: 0.0143 - accuracy: 0.9995\n"
     ]
    },
    {
     "data": {
      "text/plain": [
       "<keras.callbacks.History at 0x201bd324cd0>"
      ]
     },
     "execution_count": 16,
     "metadata": {},
     "output_type": "execute_result"
    }
   ],
   "source": [
    "model = keras.Sequential([\n",
    "    keras.layers.Dense(32,input_shape=(2,),activation='relu'),\n",
    "    keras.layers.Dense(32,activation='relu'),\n",
    "    keras.layers.Dense(2,activation='sigmoid')\n",
    "])\n",
    "\n",
    "model.compile(optimizer='adam',\n",
    "              loss=keras.losses.SparseCategoricalCrossentropy(from_logits=True),\n",
    "              metrics=['accuracy']\n",
    ")\n",
    "\n",
    "x=np.column_stack((train_df.x.values,train_df.y.values))\n",
    "\n",
    "model.fit(x,train_df.color.values,batch_size=16,epochs=15)"
   ]
  },
  {
   "cell_type": "code",
   "execution_count": 17,
   "id": "400f59ee",
   "metadata": {},
   "outputs": [
    {
     "name": "stdout",
     "output_type": "stream",
     "text": [
      "32/32 [==============================] - 0s 1ms/step - loss: 0.0137 - accuracy: 1.0000\n"
     ]
    },
    {
     "name": "stderr",
     "output_type": "stream",
     "text": [
      "C:\\Users\\rugve\\anaconda3\\lib\\site-packages\\keras\\backend.py:5585: UserWarning: \"`sparse_categorical_crossentropy` received `from_logits=True`, but the `output` argument was produced by a Softmax activation and thus does not represent logits. Was this intended?\n",
      "  output, from_logits = _get_logits(\n"
     ]
    },
    {
     "data": {
      "text/plain": [
       "[0.013741143979132175, 1.0]"
      ]
     },
     "execution_count": 17,
     "metadata": {},
     "output_type": "execute_result"
    }
   ],
   "source": [
    "test_df = pd.read_csv('./test_quad.csv')\n",
    "test_x = np.column_stack((test_df.x.values,test_df.y.values))\n",
    "\n",
    "model.evaluate(test_x,test_df.color.values)"
   ]
  },
  {
   "cell_type": "code",
   "execution_count": null,
   "id": "29c9d8f3",
   "metadata": {},
   "outputs": [],
   "source": []
  }
 ],
 "metadata": {
  "kernelspec": {
   "display_name": "Python 3 (ipykernel)",
   "language": "python",
   "name": "python3"
  },
  "language_info": {
   "codemirror_mode": {
    "name": "ipython",
    "version": 3
   },
   "file_extension": ".py",
   "mimetype": "text/x-python",
   "name": "python",
   "nbconvert_exporter": "python",
   "pygments_lexer": "ipython3",
   "version": "3.9.13"
  }
 },
 "nbformat": 4,
 "nbformat_minor": 5
}
